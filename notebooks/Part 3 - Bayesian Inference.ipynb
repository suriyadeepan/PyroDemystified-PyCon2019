{
 "cells": [
  {
   "cell_type": "markdown",
   "metadata": {},
   "source": [
    "# Bayesian Inference"
   ]
  },
  {
   "attachments": {},
   "cell_type": "markdown",
   "metadata": {},
   "source": [
    "- Use of probability for quantifying uncertainty in our models\n",
    "\n",
    "- What are the characteristics of Bayesian Modeling?\n",
    "    - Ability to incorporate uncertainty in the model through the priors\n",
    "    - Knowledge/Domain Expertise can be encoded (Common Sense, Existing Models)\n",
    "    - Hierarchical Modeling can share knowledge among groups"
   ]
  },
  {
   "cell_type": "markdown",
   "metadata": {},
   "source": [
    "![](https://swarm-help.zendesk.com/hc/article_attachments/360004059312/mceclip0.png)"
   ]
  },
  {
   "cell_type": "markdown",
   "metadata": {},
   "source": [
    "![](data:image/png;base64,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)"
   ]
  },
  {
   "cell_type": "markdown",
   "metadata": {},
   "source": [
    "- Simulation\n",
    "    - Likelihood function generates data\n",
    "    - Parameterized by priors\n",
    "- Inference\n",
    "    - Data $\\rightarrow$ parameters"
   ]
  },
  {
   "cell_type": "markdown",
   "metadata": {},
   "source": [
    "- Prior : Prior belief about the nature of the parameters\n",
    "    - Before looking at the data\n",
    "- Evidence : Available data (observed variables)\n",
    "- Likelihood : Parametric function that is believed to have generated the data\n",
    "- Posterior : Updated belief about the nature of the parameters\n",
    "    - After looking at the data"
   ]
  },
  {
   "cell_type": "markdown",
   "metadata": {},
   "source": [
    "We start with the priors and likelihood and evidence. The priors encode our knowledge about the data generating process. We encode our uncertainty about the model in the priors. Likelihood is basically the form of model that generates the data. Bayesian Inference is all about going from Priors to Posteriors.\n"
   ]
  },
  {
   "cell_type": "markdown",
   "metadata": {},
   "source": [
    "- Bayesian Inference reallocates scores for each hypotheses after looking at data\n"
   ]
  },
  {
   "cell_type": "markdown",
   "metadata": {},
   "source": [
    "![](../images/bayes.png)"
   ]
  },
  {
   "cell_type": "markdown",
   "metadata": {},
   "source": [
    "- The generative model (likelihood function parameterized by priors) simulates data"
   ]
  },
  {
   "cell_type": "markdown",
   "metadata": {},
   "source": [
    "![](https://miro.medium.com/max/800/1*qVdV6QN-qY_mwHaPvOnaDQ.png)"
   ]
  },
  {
   "cell_type": "markdown",
   "metadata": {},
   "source": [
    "- Inference inverts this process to select parameters by comparing data generated with evidence"
   ]
  },
  {
   "cell_type": "markdown",
   "metadata": {},
   "source": [
    "## Inference"
   ]
  },
  {
   "cell_type": "markdown",
   "metadata": {},
   "source": [
    "$$p_{\\theta}(x, z) = p(z|x)p(z)$$\n",
    "$$p(x) = \\int p(x,z)dz$$\n",
    "$$p(x) = \\int p(z|x)p(z)dz$$"
   ]
  },
  {
   "cell_type": "markdown",
   "metadata": {},
   "source": [
    "## MCMC"
   ]
  },
  {
   "cell_type": "markdown",
   "metadata": {},
   "source": [
    "- Not entirely a random search\n",
    "- We choose an initial point (parameter)\n",
    "- We sample around the point to get a new proposal\n",
    "- We reject the proposal or accept it based on:\n",
    "    - how well the distribution parameterized by the proposal fits the data\n",
    "    - log-probability\n",
    "- We will use a variant of MCMC : **NUTS** (No-U turn sampler)"
   ]
  },
  {
   "cell_type": "markdown",
   "metadata": {},
   "source": [
    "## Variational Inference"
   ]
  },
  {
   "cell_type": "markdown",
   "metadata": {},
   "source": [
    "- Turns bayesian inference into an optimization problem\n",
    "- Approximate posterior with a variational distribution with nice properties\n",
    "- Estimate the (variational) parameters of the variational distribution by minimizing ELBO\n",
    "- ELBO (Evidence lower bound) is obtained by decomposing the **KL-divergence** between the posterior $p(z|x)$ and the variational distribution $q(z)$"
   ]
  },
  {
   "cell_type": "markdown",
   "metadata": {},
   "source": [
    "- Faster\n",
    "- More scalable (supports subsampling (mini-batch training))\n",
    "- Less accurate\n",
    "- High variance"
   ]
  },
  {
   "cell_type": "markdown",
   "metadata": {},
   "source": [
    "**Note** : Notice the mistake in the figure"
   ]
  },
  {
   "cell_type": "markdown",
   "metadata": {},
   "source": [
    "![](../images/vi.png)"
   ]
  },
  {
   "cell_type": "markdown",
   "metadata": {},
   "source": [
    "- New distribution $q$ with nice properties"
   ]
  },
  {
   "cell_type": "markdown",
   "metadata": {},
   "source": [
    "![](../images/elbo.png)"
   ]
  }
 ],
 "metadata": {
  "kernelspec": {
   "display_name": "Python 3",
   "language": "python",
   "name": "python3"
  },
  "language_info": {
   "codemirror_mode": {
    "name": "ipython",
    "version": 3
   },
   "file_extension": ".py",
   "mimetype": "text/x-python",
   "name": "python",
   "nbconvert_exporter": "python",
   "pygments_lexer": "ipython3",
   "version": "3.7.4"
  }
 },
 "nbformat": 4,
 "nbformat_minor": 2
}
