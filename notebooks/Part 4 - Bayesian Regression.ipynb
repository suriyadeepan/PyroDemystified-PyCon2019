{
 "cells": [
  {
   "cell_type": "markdown",
   "metadata": {},
   "source": [
    "### Linear Regression on BAP data"
   ]
  },
  {
   "cell_type": "code",
   "execution_count": 1,
   "metadata": {},
   "outputs": [
    {
     "name": "stdout",
     "output_type": "stream",
     "text": [
      "/Users/Suriyadeepan/talks/in.pycon.2019\n"
     ]
    }
   ],
   "source": [
    "cd .."
   ]
  },
  {
   "cell_type": "code",
   "execution_count": 2,
   "metadata": {},
   "outputs": [],
   "source": [
    "%load_ext autoreload\n",
    "%autoreload 2"
   ]
  },
  {
   "cell_type": "code",
   "execution_count": 8,
   "metadata": {},
   "outputs": [
    {
     "data": {
      "image/png": "[encoded data removed]",
      "text/plain": [
       "<Figure size 432x288 with 1 Axes>"
      ]
     },
     "metadata": {
      "needs_background": "light"
     },
     "output_type": "display_data"
    }
   ],
   "source": [
    "import getorix.data as getdata\n",
    "import getorix.visualize as getviz\n",
    "\n",
    "data = getdata.bap_lr()\n",
    "x, y = data.unbind()\n",
    "getviz.scatter(x, y, c='green')"
   ]
  },
  {
   "cell_type": "markdown",
   "metadata": {},
   "source": [
    "## Bayesian Linear Regression"
   ]
  },
  {
   "cell_type": "markdown",
   "metadata": {},
   "source": [
    "$$\\alpha \\sim \\mathcal{N}(\\mu_{\\alpha}, \\sigma_{\\alpha})$$\n",
    "$$\\beta \\sim \\mathcal{N}(\\mu_{\\beta}, \\sigma_{\\beta})$$\n",
    "$$\\epsilon \\sim HalfCauchy(\\sigma_{\\epsilon})$$\n",
    "$$\\mu = \\alpha + \\beta X $$\n",
    "$$\\hat{y} \\sim \\mathcal{N}(\\mu, \\epsilon)$$"
   ]
  },
  {
   "cell_type": "code",
   "execution_count": 14,
   "metadata": {},
   "outputs": [],
   "source": [
    "import pyro\n",
    "import pyro.distributions as pdist\n",
    "import getorix.visualize as getviz\n",
    "import getorix.inference as getinf\n",
    "import torch\n",
    "from torch.distributions import constraints\n",
    "\n",
    "def bap_lr_model(data):\n",
    "    x, y = torch.unbind(data)\n",
    "\n",
    "    alpha = pyro.sample('alpha', pdist.Normal(0., 1.))\n",
    "    beta = pyro.sample('beta', pdist.Normal(1., 1.))\n",
    "    epsilon = pyro.sample('epsilon', pdist.HalfCauchy(10.))\n",
    "\n",
    "    mu = (alpha + beta * x)\n",
    "    \n",
    "    with pyro.plate('observe_data'):\n",
    "        pyro.sample('obs', pdist.Normal(mu, epsilon), obs=y)\n",
    "    \n",
    "def bap_lr_guide(data):\n",
    "    x, y = data\n",
    "    loc_alpha = pyro.param('loc_alpha', torch.tensor(0.))\n",
    "    scale_alpha = pyro.param('scale_alpha', torch.tensor(1.), constraint=constraints.positive)\n",
    "    loc_beta = pyro.param('loc_beta', torch.tensor(1.))\n",
    "    scale_beta = pyro.param('scale_beta', torch.tensor(10.), constraint=constraints.positive)\n",
    "    scale_epsilon = pyro.param('scale_epsilon', torch.tensor(1.), constraint=constraints.positive)\n",
    "    alpha = pyro.sample('alpha', pdist.Normal(loc_alpha, scale_alpha))\n",
    "    beta = pyro.sample('beta', pdist.Normal(loc_beta, scale_beta))\n",
    "    epsilon = pyro.sample('epsilon', pdist.HalfCauchy(scale_epsilon))\n",
    "    mu = (alpha + beta * x)"
   ]
  },
  {
   "cell_type": "code",
   "execution_count": 15,
   "metadata": {},
   "outputs": [
    {
     "name": "stderr",
     "output_type": "stream",
     "text": [
      "100%|██████████| 8000/8000 [00:35<00:00, 227.06it/s]\n"
     ]
    }
   ],
   "source": [
    "pyro.clear_param_store()\n",
    "losses, params = getinf.variational_fit(bap_lr_model, bap_lr_guide,\n",
    "                                        data, num_epochs=8000, lr=0.01)"
   ]
  },
  {
   "cell_type": "code",
   "execution_count": 22,
   "metadata": {},
   "outputs": [],
   "source": [
    "iris_data, iris_test = getdata.iris()"
   ]
  },
  {
   "cell_type": "markdown",
   "metadata": {},
   "source": [
    "<h2><font color='teal'>Polynomial Regression</font></h3>"
   ]
  },
  {
   "cell_type": "code",
   "execution_count": 27,
   "metadata": {},
   "outputs": [
    {
     "data": {
      "image/png": "[encoded data removed]",
      "text/plain": [
       "<Figure size 432x288 with 1 Axes>"
      ]
     },
     "metadata": {
      "needs_background": "light"
     },
     "output_type": "display_data"
    }
   ],
   "source": [
    "poly_data = getdata.anscombe()\n",
    "x, y = torch.unbind(poly_data)\n",
    "getviz.scatter(x, y, c='red')"
   ]
  },
  {
   "cell_type": "markdown",
   "metadata": {},
   "source": [
    "## Mauna Loa"
   ]
  },
  {
   "cell_type": "code",
   "execution_count": 29,
   "metadata": {},
   "outputs": [
    {
     "data": {
      "text/plain": [
       "<matplotlib.axes._subplots.AxesSubplot at 0x1277d93d0>"
      ]
     },
     "execution_count": 29,
     "metadata": {},
     "output_type": "execute_result"
    },
    {
     "data": {
      "image/png": "[encoded data removed]",
      "text/plain": [
       "<Figure size 432x288 with 1 Axes>"
      ]
     },
     "metadata": {
      "needs_background": "light"
     },
     "output_type": "display_data"
    }
   ],
   "source": [
    "import pandas as pd\n",
    "df = pd.read_csv('data/mauna-loa-co2-ppm-daily.csv')\n",
    "df.value.plot()"
   ]
  },
  {
   "cell_type": "markdown",
   "metadata": {},
   "source": [
    "## 2 Clusters"
   ]
  },
  {
   "cell_type": "code",
   "execution_count": 38,
   "metadata": {},
   "outputs": [],
   "source": [
    "import getorix.data as getdata\n",
    "import matplotlib.pyplot as plt\n",
    "plt.style.use('ggplot')\n",
    "\n",
    "data = getdata.two_clusters()"
   ]
  },
  {
   "cell_type": "code",
   "execution_count": 39,
   "metadata": {},
   "outputs": [
    {
     "data": {
      "text/plain": [
       "(array([ 2., 11., 13.,  4.,  1.,  5., 11., 20., 27.,  6.]),\n",
       " array([-0.30675387,  1.2627277 ,  2.8322093 ,  4.401691  ,  5.971173  ,\n",
       "         7.540654  ,  9.110136  , 10.679618  , 12.249099  , 13.818581  ,\n",
       "        15.3880625 ], dtype=float32),\n",
       " <a list of 10 Patch objects>)"
      ]
     },
     "execution_count": 39,
     "metadata": {},
     "output_type": "execute_result"
    },
    {
     "data": {
      "image/png": "[encoded data removed]",
      "text/plain": [
       "<Figure size 432x288 with 1 Axes>"
      ]
     },
     "metadata": {},
     "output_type": "display_data"
    }
   ],
   "source": [
    "plt.hist(data.detach())"
   ]
  },
  {
   "cell_type": "code",
   "execution_count": 45,
   "metadata": {},
   "outputs": [
    {
     "data": {
      "image/png": "[encoded data removed]",
      "text/plain": [
       "<Figure size 432x288 with 1 Axes>"
      ]
     },
     "metadata": {},
     "output_type": "display_data"
    }
   ],
   "source": [
    "plt.figure()\n",
    "a = data.detach()\n",
    "plt.hlines(1, -1, 20)  # Draw a horizontal line\n",
    "plt.eventplot(a, orientation='horizontal', colors='b')\n",
    "plt.show()"
   ]
  },
  {
   "cell_type": "markdown",
   "metadata": {},
   "source": [
    "- Learn to simulate these points"
   ]
  }
 ],
 "metadata": {
  "kernelspec": {
   "display_name": "Python 3",
   "language": "python",
   "name": "python3"
  },
  "language_info": {
   "codemirror_mode": {
    "name": "ipython",
    "version": 3
   },
   "file_extension": ".py",
   "mimetype": "text/x-python",
   "name": "python",
   "nbconvert_exporter": "python",
   "pygments_lexer": "ipython3",
   "version": "3.7.4"
  }
 },
 "nbformat": 4,
 "nbformat_minor": 2
}
